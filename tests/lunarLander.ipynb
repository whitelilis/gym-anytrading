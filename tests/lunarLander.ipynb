{
 "cells": [
  {
   "cell_type": "code",
   "execution_count": 1,
   "metadata": {},
   "outputs": [
    {
     "name": "stdout",
     "output_type": "stream",
     "text": [
      "1\n"
     ]
    }
   ],
   "source": [
    "import gymnasium as gym\n",
    "\n",
    "#env = gym.make(\"LunarLander-v2\", render_mode=\"human\")\n",
    "env = gym.make(\"LunarLander-v2\")\n",
    "observation, info = env.reset()\n",
    "\n",
    "for _ in range(1000):\n",
    "    action = env.action_space.sample(\n",
    "    )  # agent policy that uses the observation and info\n",
    "    print(action)\n",
    "    observation, reward, terminated, truncated, info = env.step(action)\n",
    "    break\n",
    "    if terminated or truncated:\n",
    "        observation, info = env.reset()\n",
    "\n",
    "env.close()"
   ]
  },
  {
   "cell_type": "code",
   "execution_count": 2,
   "metadata": {},
   "outputs": [],
   "source": [
    "from stable_baselines3 import PPO, A2C\n",
    "from stable_baselines3.common.env_util import make_vec_env\n",
    "from stable_baselines3.common.evaluation import evaluate_policy\n",
    "from stable_baselines3.common.monitor import Monitor\n"
   ]
  },
  {
   "cell_type": "code",
   "execution_count": 3,
   "metadata": {},
   "outputs": [
    {
     "data": {
      "text/plain": [
       "<stable_baselines3.ppo.ppo.PPO at 0x16917ad30>"
      ]
     },
     "execution_count": 3,
     "metadata": {},
     "output_type": "execute_result"
    }
   ],
   "source": [
    "#model = PPO(\"MlpPolicy\", env, learning_rate=3e-3, tensorboard_log=\"tb_log\", verbose=1, device=\"cuda\") # cuda or cpu\n",
    "model = PPO(\"MlpPolicy\",\n",
    "            env,\n",
    "            learning_rate=3e-4,\n",
    "            tensorboard_log=\"tb_log\",\n",
    "            verbose=0,\n",
    "            device=\"cpu\")  # cuda or cpu\n",
    "model.learn(total_timesteps=int(2e5))  # this RETURN a trained model\n"
   ]
  },
  {
   "cell_type": "code",
   "execution_count": 10,
   "metadata": {},
   "outputs": [],
   "source": [
    "#env = gym.make(\"LunarLander-v2\",)\n",
    "env = gym.make(\"LunarLander-v2\", render_mode=\"human\")\n",
    "obs, info = env.reset()\n",
    "\n",
    "for _ in range(1000):\n",
    "    #action = env.action_space.sample()  # agent policy that uses the observation and info\n",
    "    action, info = model.predict(obs, deterministic=True)\n",
    "    #action, info = model.predict(obs)\n",
    "    #print(action)\n",
    "    #break\n",
    "    obs, reward, terminated, truncated, info = env.step(action)\n",
    "    if terminated or truncated:\n",
    "        observation, info = env.reset()\n",
    "\n",
    "env.close()"
   ]
  },
  {
   "cell_type": "code",
   "execution_count": 5,
   "metadata": {},
   "outputs": [
    {
     "data": {
      "text/plain": [
       "Discrete(4)"
      ]
     },
     "execution_count": 5,
     "metadata": {},
     "output_type": "execute_result"
    }
   ],
   "source": [
    "env.action_space"
   ]
  }
 ],
 "metadata": {
  "kernelspec": {
   "display_name": "torch_env",
   "language": "python",
   "name": "python3"
  },
  "language_info": {
   "codemirror_mode": {
    "name": "ipython",
    "version": 3
   },
   "file_extension": ".py",
   "mimetype": "text/x-python",
   "name": "python",
   "nbconvert_exporter": "python",
   "pygments_lexer": "ipython3",
   "version": "3.9.12"
  },
  "orig_nbformat": 4
 },
 "nbformat": 4,
 "nbformat_minor": 2
}
